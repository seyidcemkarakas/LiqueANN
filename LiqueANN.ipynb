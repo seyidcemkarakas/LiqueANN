{
 "cells": [
  {
   "cell_type": "markdown",
   "id": "cd18f438",
   "metadata": {
    "heading_collapsed": true
   },
   "source": [
    "# Importing Necessary Libraries & Functions"
   ]
  },
  {
   "cell_type": "code",
   "execution_count": 10,
   "id": "6008cb5a",
   "metadata": {
    "code_folding": [
     11,
     14,
     27,
     31,
     42,
     59,
     64,
     95,
     136,
     145,
     172,
     178
    ],
    "hidden": true
   },
   "outputs": [],
   "source": [
    "import pandas as pd\n",
    "import numpy as np\n",
    "import matplotlib.pyplot as plt\n",
    "import seaborn as sns\n",
    "import plotly.express as px\n",
    "import os\n",
    "import warnings\n",
    "warnings.filterwarnings(\"ignore\")\n",
    "%matplotlib inline\n",
    "from sklearn.model_selection import train_test_split\n",
    "\n",
    "def clear():\n",
    "    from IPython.display import clear_output\n",
    "    return clear_output(wait=True)\n",
    "def best_random_state_wizard(test_size,df,real_vars,target):\n",
    "    best_skor=0\n",
    "    best_split_number=0\n",
    "    for i in range(0,2**32-1):\n",
    "        x_train, x_test, y_train, y_test = train_test_split(df[real_vars], df[target],test_size=(test_size/100),random_state=i)\n",
    "        train_df,test_df=train_test_df_maker(x_train, x_test, y_train, y_test)\n",
    "        skor=show_split_performance_2(train_df, test_df)\n",
    "        if skor > best_skor:\n",
    "            best_skor=skor\n",
    "            best_split_number=i\n",
    "            print(datetime.now(),best_split_number,best_skor)\n",
    "            \n",
    "    return best_split_number       \n",
    "def colorization():\n",
    "    colors = [\"blue\",\"green\",\"red\",\"black\",\"magenta\",\"darkblue\",\"green\",\"blue\",\"orange\"]\n",
    "    rast = np.random.randint(0,len(colors))\n",
    "    return colors[rast]\n",
    "class c:\n",
    "    P = '\\033[95m'  #purple\n",
    "    C = '\\033[96m'  #cyan\n",
    "    D = '\\033[36m'  #darkcyan\n",
    "    BL = '\\033[94m'  #blue\n",
    "    G = '\\033[92m'  #green\n",
    "    Y = '\\033[93m'  #yellow\n",
    "    R = '\\033[91m'  #red\n",
    "    B = '\\033[1m'  #bold\n",
    "    U = '\\033[4m'  #underline\n",
    "    E = '\\033[0m'  #end\n",
    "def missing_values_table(df):\n",
    "    mis_val = df.isnull().sum()\n",
    "    mis_val_percent = 100 * df.isnull().sum() / len(df)\n",
    "    mis_val_table = pd.concat([mis_val, mis_val_percent], axis=1)\n",
    "    mis_val_table_ren_columns = mis_val_table.rename(columns={\n",
    "        0: 'Missing Values',\n",
    "        1: '% of Total Values'\n",
    "    })\n",
    "    mis_val_table_ren_columns = mis_val_table_ren_columns[\n",
    "        mis_val_table_ren_columns.iloc[:, 1] != 0].sort_values(\n",
    "            '% of Total Values', ascending=False).round(1)\n",
    "\n",
    "    print(\"Your selected dataframe has \" + str(df.shape[1]) + \" columns.\\n\"\n",
    "          \"There are \" + str(mis_val_table_ren_columns.shape[0]) +\n",
    "          \" columns that have missing values.\")\n",
    "\n",
    "    return mis_val_table_ren_columns\n",
    "def describe_myway(df):\n",
    "    return df.describe().T.style.bar(\n",
    "        subset=['mean'],\n",
    "        color=px.colors.qualitative.Pastel[4]).background_gradient(\n",
    "            subset=['std'], cmap='Greens')\n",
    "def show_split_performance_2(train_df, test_df):\n",
    "    #made by seyidcem in order to suppor best_random_state_wizard function\n",
    "    a = pd.DataFrame(train_df.describe())\n",
    "    b = pd.DataFrame(test_df.describe())\n",
    "\n",
    "    all_std = []\n",
    "    all_mean = []\n",
    "    all_max = []\n",
    "    all_min = []\n",
    "\n",
    "    for i in a:\n",
    "        if abs((a[i][\"std\"])) <= abs((b[i][\"std\"])):\n",
    "            all_std.append((a[i][\"std\"]) / (b[i][\"std\"]))\n",
    "        elif abs((a[i][\"std\"])) >= abs((b[i][\"std\"])):\n",
    "            all_std.append((b[i][\"std\"]) / (a[i][\"std\"]))\n",
    "    for i in a:\n",
    "        if abs((a[i][\"mean\"])) <= abs((b[i][\"mean\"])):\n",
    "            all_mean.append((abs(a[i][\"mean\"])) / (abs(b[i][\"mean\"])))\n",
    "        elif abs((a[i][\"mean\"])) >= abs((b[i][\"mean\"])):\n",
    "            all_mean.append((abs(b[i][\"mean\"])) / (abs(a[i][\"mean\"])))\n",
    "    for i in a:\n",
    "        if abs((a[i][\"max\"])) <= abs((b[i][\"max\"])):\n",
    "            all_max.append((a[i][\"max\"]) / (b[i][\"max\"]))\n",
    "        elif abs((a[i][\"max\"])) >= abs((b[i][\"max\"])):\n",
    "            all_max.append((b[i][\"max\"]) / (a[i][\"max\"]))\n",
    "    for i in a:\n",
    "        if abs((a[i][\"min\"])) <= abs((b[i][\"min\"])):\n",
    "            all_min.append((a[i][\"min\"]) / (b[i][\"min\"]))\n",
    "        elif abs((a[i][\"min\"])) >= abs((b[i][\"min\"])):\n",
    "            all_min.append((b[i][\"min\"]) / (a[i][\"min\"]))\n",
    "    return np.mean(all_std)\n",
    "def show_split_performance(train_df, test_df):\n",
    "    \n",
    "    a = pd.DataFrame(train_df.describe())\n",
    "    b = pd.DataFrame(test_df.describe())\n",
    "\n",
    "    all_std = []\n",
    "    all_mean = []\n",
    "    all_max = []\n",
    "    all_min = []\n",
    "\n",
    "    for i in a:\n",
    "        if abs((a[i][\"std\"])) <= abs((b[i][\"std\"])):\n",
    "            all_std.append((a[i][\"std\"]) / (b[i][\"std\"]))\n",
    "        elif abs((a[i][\"std\"])) >= abs((b[i][\"std\"])):\n",
    "            all_std.append((b[i][\"std\"]) / (a[i][\"std\"]))\n",
    "#     for i in a:\n",
    "#         if abs((a[i][\"mean\"])) <= abs((b[i][\"mean\"])):\n",
    "#             all_mean.append((a[i][\"mean\"]) / (b[i][\"mean\"]))\n",
    "#         elif abs((a[i][\"mean\"])) >= abs((b[i][\"mean\"])):\n",
    "#             all_mean.append((b[i][\"mean\"]) / (a[i][\"mean\"]))\n",
    "    for i in a:\n",
    "        if abs((a[i][\"mean\"])) <= abs((b[i][\"mean\"])):\n",
    "            all_mean.append((abs(a[i][\"mean\"])) / (abs(b[i][\"mean\"])))\n",
    "        elif abs((a[i][\"mean\"])) >= abs((b[i][\"mean\"])):\n",
    "            all_mean.append((abs(b[i][\"mean\"])) / (abs(a[i][\"mean\"])))\n",
    "    for i in a:\n",
    "        if abs((a[i][\"max\"])) <= abs((b[i][\"max\"])):\n",
    "            all_max.append((a[i][\"max\"]) / (b[i][\"max\"]))\n",
    "        elif abs((a[i][\"max\"])) >= abs((b[i][\"max\"])):\n",
    "            all_max.append((b[i][\"max\"]) / (a[i][\"max\"]))\n",
    "    for i in a:\n",
    "        if abs((a[i][\"min\"])) <= abs((b[i][\"min\"])):\n",
    "            all_min.append((a[i][\"min\"]) / (b[i][\"min\"]))\n",
    "        elif abs((a[i][\"min\"])) >= abs((b[i][\"min\"])):\n",
    "            all_min.append((b[i][\"min\"]) / (a[i][\"min\"]))\n",
    "\n",
    "    d = {\"std\": all_std, \"mean\": all_mean, \"max\": all_max, \"min\": all_min}\n",
    "    split_df = pd.DataFrame(d, index=a.columns)\n",
    "    split_df = split_df.style.background_gradient().highlight_null(\n",
    "        null_color=\"red\")\n",
    "    return split_df\n",
    "def show_variables(df):\n",
    "    vars_dict = {}\n",
    "    var_i = 0\n",
    "    for i in df.columns:\n",
    "        vars_dict[var_i] = i\n",
    "        var_i += 1\n",
    "    for i in vars_dict:\n",
    "        print(i, \" =>\", vars_dict[i])\n",
    "    return vars_dict\n",
    "def selecting_inputs(vars_dict):\n",
    "    chosen = []\n",
    "    while True:\n",
    "        clear()\n",
    "        a = int(\n",
    "            input(\n",
    "                f\"{c.BL} Select the keys of input variables by selecting index numbers:{c.E} \\n {c.B}{c.G}%% when you finished please write = 10000  \\n for all variables write = 10001 %%{c.E} \\n\"\n",
    "            ))\n",
    "        if a == 10000:\n",
    "            print(f\"{c.B}{c.BL}Input variable selection completed !{c.E}\")\n",
    "            break\n",
    "        elif a == 10001:\n",
    "            for i in range(0, len(vars_dict)):\n",
    "                chosen.append(i)\n",
    "            print(\n",
    "                f\"{c.B}{c.BL}All avaliables variables selected as input !{c.E}\")\n",
    "            break\n",
    "\n",
    "        chosen.append(a)\n",
    "        clear()\n",
    "    real_vars = []\n",
    "    for i in chosen:\n",
    "        real_vars.append(vars_dict[i])\n",
    "    if target in real_vars:\n",
    "        real_vars.remove(target)\n",
    "    print(f\"{c.B}{c.R}Selected inputs are :{c.E} \\n{real_vars}\")\n",
    "    return real_vars\n",
    "def selecting_target():\n",
    "    vars_dict=show_variables(df)\n",
    "    selection = int(input(f\"{c.BL}Select the target variable: {c.E}\"))\n",
    "    target = vars_dict[selection]\n",
    "    print(f\"\\n{c.BL}{c.B}Selected target is {c.R}{target}{c.E} !{c.E}\")\n",
    "    return target\n",
    "def train_test_df_maker(x_train, x_test, y_train, y_test):\n",
    "    c1=x_train.copy()\n",
    "    c2=x_test.copy()\n",
    "    train_df = c1\n",
    "    test_df = c2\n",
    "    train_df[target] = y_train\n",
    "    test_df[target] = y_test\n",
    "    return train_df,test_df"
   ]
  },
  {
   "cell_type": "markdown",
   "id": "8051ca07",
   "metadata": {
    "heading_collapsed": true
   },
   "source": [
    "# Getting Data"
   ]
  },
  {
   "cell_type": "code",
   "execution_count": 6,
   "id": "ec9314ed",
   "metadata": {
    "hidden": true
   },
   "outputs": [],
   "source": [
    "import pandas as pd\n",
    "df = pd.read_excel(\"database/yeni_data_3.0.xlsx\")\n",
    "df_yedek = pd.read_excel(\"database/yeni_data_3.0.xlsx\")"
   ]
  },
  {
   "cell_type": "markdown",
   "id": "2c426c44",
   "metadata": {
    "heading_collapsed": true
   },
   "source": [
    "# Data Preprocessing"
   ]
  },
  {
   "cell_type": "markdown",
   "id": "528d2e65",
   "metadata": {
    "heading_collapsed": true,
    "hidden": true
   },
   "source": [
    "## Target identification"
   ]
  },
  {
   "cell_type": "code",
   "execution_count": 7,
   "id": "9c754507",
   "metadata": {
    "hidden": true
   },
   "outputs": [
    {
     "name": "stdout",
     "output_type": "stream",
     "text": [
      "0  => qc_ave\n",
      "1  => fs_ave\n",
      "2  => u2_ave\n",
      "3  => magnitude\n",
      "4  => pga\n",
      "5  => gwt\n",
      "6  => manifestation\n",
      "Select the target variable: 6\n",
      "\n",
      "\u001b[94m\u001b[1mSelected target is \u001b[91mmanifestation\u001b[0m !\u001b[0m\n"
     ]
    }
   ],
   "source": [
    "target = selecting_target()"
   ]
  },
  {
   "cell_type": "markdown",
   "id": "821f645a",
   "metadata": {
    "heading_collapsed": true,
    "hidden": true
   },
   "source": [
    "## Showing some numerical properties of each column"
   ]
  },
  {
   "cell_type": "code",
   "execution_count": 4,
   "id": "fb8db24c",
   "metadata": {
    "hidden": true,
    "scrolled": true
   },
   "outputs": [
    {
     "data": {
      "text/html": [
       "<style type=\"text/css\">\n",
       "#T_dd628_row0_col1 {\n",
       "  width: 10em;\n",
       "  background: linear-gradient(90deg, rgb(135, 197, 95) 100.0%, transparent 100.0%);\n",
       "}\n",
       "#T_dd628_row0_col2 {\n",
       "  background-color: #00441b;\n",
       "  color: #f1f1f1;\n",
       "}\n",
       "#T_dd628_row1_col1 {\n",
       "  width: 10em;\n",
       "  background: linear-gradient(90deg, rgb(135, 197, 95) 0.7%, transparent 0.7%);\n",
       "}\n",
       "#T_dd628_row1_col2, #T_dd628_row2_col2 {\n",
       "  background-color: #f6fcf4;\n",
       "  color: #000000;\n",
       "}\n",
       "#T_dd628_row2_col1 {\n",
       "  width: 10em;\n",
       "  background: linear-gradient(90deg, rgb(135, 197, 95) 0.2%, transparent 0.2%);\n",
       "}\n",
       "#T_dd628_row3_col1 {\n",
       "  width: 10em;\n",
       "  background: linear-gradient(90deg, rgb(135, 197, 95) 0.1%, transparent 0.1%);\n",
       "}\n",
       "#T_dd628_row3_col2, #T_dd628_row4_col2, #T_dd628_row5_col2, #T_dd628_row6_col2 {\n",
       "  background-color: #f7fcf5;\n",
       "  color: #000000;\n",
       "}\n",
       "#T_dd628_row4_col1, #T_dd628_row5_col1, #T_dd628_row6_col1 {\n",
       "  width: 10em;\n",
       "  background: linear-gradient(90deg, rgb(135, 197, 95) 0.0%, transparent 0.0%);\n",
       "}\n",
       "</style>\n",
       "<table id=\"T_dd628\">\n",
       "  <thead>\n",
       "    <tr>\n",
       "      <th class=\"blank level0\" >&nbsp;</th>\n",
       "      <th id=\"T_dd628_level0_col0\" class=\"col_heading level0 col0\" >count</th>\n",
       "      <th id=\"T_dd628_level0_col1\" class=\"col_heading level0 col1\" >mean</th>\n",
       "      <th id=\"T_dd628_level0_col2\" class=\"col_heading level0 col2\" >std</th>\n",
       "      <th id=\"T_dd628_level0_col3\" class=\"col_heading level0 col3\" >min</th>\n",
       "      <th id=\"T_dd628_level0_col4\" class=\"col_heading level0 col4\" >25%</th>\n",
       "      <th id=\"T_dd628_level0_col5\" class=\"col_heading level0 col5\" >50%</th>\n",
       "      <th id=\"T_dd628_level0_col6\" class=\"col_heading level0 col6\" >75%</th>\n",
       "      <th id=\"T_dd628_level0_col7\" class=\"col_heading level0 col7\" >max</th>\n",
       "    </tr>\n",
       "  </thead>\n",
       "  <tbody>\n",
       "    <tr>\n",
       "      <th id=\"T_dd628_level0_row0\" class=\"row_heading level0 row0\" >qc_ave</th>\n",
       "      <td id=\"T_dd628_row0_col0\" class=\"data row0 col0\" >14612.000000</td>\n",
       "      <td id=\"T_dd628_row0_col1\" class=\"data row0 col1\" >10702.302733</td>\n",
       "      <td id=\"T_dd628_row0_col2\" class=\"data row0 col2\" >4285.402202</td>\n",
       "      <td id=\"T_dd628_row0_col3\" class=\"data row0 col3\" >560.800000</td>\n",
       "      <td id=\"T_dd628_row0_col4\" class=\"data row0 col4\" >7377.750000</td>\n",
       "      <td id=\"T_dd628_row0_col5\" class=\"data row0 col5\" >11381.900000</td>\n",
       "      <td id=\"T_dd628_row0_col6\" class=\"data row0 col6\" >13987.980000</td>\n",
       "      <td id=\"T_dd628_row0_col7\" class=\"data row0 col7\" >23898.930000</td>\n",
       "    </tr>\n",
       "    <tr>\n",
       "      <th id=\"T_dd628_level0_row1\" class=\"row_heading level0 row1\" >fs_ave</th>\n",
       "      <td id=\"T_dd628_row1_col0\" class=\"data row1 col0\" >14612.000000</td>\n",
       "      <td id=\"T_dd628_row1_col1\" class=\"data row1 col1\" >69.677113</td>\n",
       "      <td id=\"T_dd628_row1_col2\" class=\"data row1 col2\" >29.139430</td>\n",
       "      <td id=\"T_dd628_row1_col3\" class=\"data row1 col3\" >1.000000</td>\n",
       "      <td id=\"T_dd628_row1_col4\" class=\"data row1 col4\" >47.485000</td>\n",
       "      <td id=\"T_dd628_row1_col5\" class=\"data row1 col5\" >68.450000</td>\n",
       "      <td id=\"T_dd628_row1_col6\" class=\"data row1 col6\" >89.110000</td>\n",
       "      <td id=\"T_dd628_row1_col7\" class=\"data row1 col7\" >156.300000</td>\n",
       "    </tr>\n",
       "    <tr>\n",
       "      <th id=\"T_dd628_level0_row2\" class=\"row_heading level0 row2\" >u2_ave</th>\n",
       "      <td id=\"T_dd628_row2_col0\" class=\"data row2 col0\" >14612.000000</td>\n",
       "      <td id=\"T_dd628_row2_col1\" class=\"data row2 col1\" >23.395684</td>\n",
       "      <td id=\"T_dd628_row2_col2\" class=\"data row2 col2\" >35.643401</td>\n",
       "      <td id=\"T_dd628_row2_col3\" class=\"data row2 col3\" >-73.450000</td>\n",
       "      <td id=\"T_dd628_row2_col4\" class=\"data row2 col4\" >-0.830000</td>\n",
       "      <td id=\"T_dd628_row2_col5\" class=\"data row2 col5\" >23.270000</td>\n",
       "      <td id=\"T_dd628_row2_col6\" class=\"data row2 col6\" >49.195000</td>\n",
       "      <td id=\"T_dd628_row2_col7\" class=\"data row2 col7\" >127.770000</td>\n",
       "    </tr>\n",
       "    <tr>\n",
       "      <th id=\"T_dd628_level0_row3\" class=\"row_heading level0 row3\" >magnitude</th>\n",
       "      <td id=\"T_dd628_row3_col0\" class=\"data row3 col0\" >14612.000000</td>\n",
       "      <td id=\"T_dd628_row3_col1\" class=\"data row3 col1\" >6.357781</td>\n",
       "      <td id=\"T_dd628_row3_col2\" class=\"data row3 col2\" >0.574436</td>\n",
       "      <td id=\"T_dd628_row3_col3\" class=\"data row3 col3\" >5.700000</td>\n",
       "      <td id=\"T_dd628_row3_col4\" class=\"data row3 col4\" >5.700000</td>\n",
       "      <td id=\"T_dd628_row3_col5\" class=\"data row3 col5\" >6.200000</td>\n",
       "      <td id=\"T_dd628_row3_col6\" class=\"data row3 col6\" >7.100000</td>\n",
       "      <td id=\"T_dd628_row3_col7\" class=\"data row3 col7\" >7.100000</td>\n",
       "    </tr>\n",
       "    <tr>\n",
       "      <th id=\"T_dd628_level0_row4\" class=\"row_heading level0 row4\" >pga</th>\n",
       "      <td id=\"T_dd628_row4_col0\" class=\"data row4 col0\" >14612.000000</td>\n",
       "      <td id=\"T_dd628_row4_col1\" class=\"data row4 col1\" >0.260621</td>\n",
       "      <td id=\"T_dd628_row4_col2\" class=\"data row4 col2\" >0.132742</td>\n",
       "      <td id=\"T_dd628_row4_col3\" class=\"data row4 col3\" >0.048000</td>\n",
       "      <td id=\"T_dd628_row4_col4\" class=\"data row4 col4\" >0.178000</td>\n",
       "      <td id=\"T_dd628_row4_col5\" class=\"data row4 col5\" >0.208784</td>\n",
       "      <td id=\"T_dd628_row4_col6\" class=\"data row4 col6\" >0.349000</td>\n",
       "      <td id=\"T_dd628_row4_col7\" class=\"data row4 col7\" >0.674000</td>\n",
       "    </tr>\n",
       "    <tr>\n",
       "      <th id=\"T_dd628_level0_row5\" class=\"row_heading level0 row5\" >gwt</th>\n",
       "      <td id=\"T_dd628_row5_col0\" class=\"data row5 col0\" >14612.000000</td>\n",
       "      <td id=\"T_dd628_row5_col1\" class=\"data row5 col1\" >1.733520</td>\n",
       "      <td id=\"T_dd628_row5_col2\" class=\"data row5 col2\" >0.667588</td>\n",
       "      <td id=\"T_dd628_row5_col3\" class=\"data row5 col3\" >0.000000</td>\n",
       "      <td id=\"T_dd628_row5_col4\" class=\"data row5 col4\" >1.263074</td>\n",
       "      <td id=\"T_dd628_row5_col5\" class=\"data row5 col5\" >1.699470</td>\n",
       "      <td id=\"T_dd628_row5_col6\" class=\"data row5 col6\" >2.152326</td>\n",
       "      <td id=\"T_dd628_row5_col7\" class=\"data row5 col7\" >3.593761</td>\n",
       "    </tr>\n",
       "    <tr>\n",
       "      <th id=\"T_dd628_level0_row6\" class=\"row_heading level0 row6\" >manifestation</th>\n",
       "      <td id=\"T_dd628_row6_col0\" class=\"data row6 col0\" >14612.000000</td>\n",
       "      <td id=\"T_dd628_row6_col1\" class=\"data row6 col1\" >0.395360</td>\n",
       "      <td id=\"T_dd628_row6_col2\" class=\"data row6 col2\" >0.488945</td>\n",
       "      <td id=\"T_dd628_row6_col3\" class=\"data row6 col3\" >0.000000</td>\n",
       "      <td id=\"T_dd628_row6_col4\" class=\"data row6 col4\" >0.000000</td>\n",
       "      <td id=\"T_dd628_row6_col5\" class=\"data row6 col5\" >0.000000</td>\n",
       "      <td id=\"T_dd628_row6_col6\" class=\"data row6 col6\" >1.000000</td>\n",
       "      <td id=\"T_dd628_row6_col7\" class=\"data row6 col7\" >1.000000</td>\n",
       "    </tr>\n",
       "  </tbody>\n",
       "</table>\n"
      ],
      "text/plain": [
       "<pandas.io.formats.style.Styler at 0x1b7efc308b0>"
      ]
     },
     "execution_count": 4,
     "metadata": {},
     "output_type": "execute_result"
    }
   ],
   "source": [
    "describe_myway(df)"
   ]
  },
  {
   "cell_type": "markdown",
   "id": "21600d55",
   "metadata": {
    "heading_collapsed": true
   },
   "source": [
    "# Scaling & Splitting"
   ]
  },
  {
   "cell_type": "markdown",
   "id": "f9cbafd6",
   "metadata": {
    "heading_collapsed": true,
    "hidden": true
   },
   "source": [
    "## Selecting the input variables"
   ]
  },
  {
   "cell_type": "markdown",
   "id": "55327a35",
   "metadata": {
    "hidden": true
   },
   "source": [
    "Lets see which variables could be as inputs "
   ]
  },
  {
   "cell_type": "code",
   "execution_count": 11,
   "id": "e89df8bc",
   "metadata": {
    "hidden": true
   },
   "outputs": [
    {
     "name": "stdout",
     "output_type": "stream",
     "text": [
      "0  => qc_ave\n",
      "1  => fs_ave\n",
      "2  => u2_ave\n",
      "3  => magnitude\n",
      "4  => pga\n",
      "5  => gwt\n",
      "6  => manifestation\n"
     ]
    }
   ],
   "source": [
    "vars_dict=show_variables(df)"
   ]
  },
  {
   "cell_type": "code",
   "execution_count": 12,
   "id": "6e422def",
   "metadata": {
    "hidden": true
   },
   "outputs": [
    {
     "name": "stdout",
     "output_type": "stream",
     "text": [
      " Select the keys of input variables by selecting index numbers: \n",
      " %% when you finished please write = 10000  \n",
      " for all variables write = 10001 %% \n",
      "10001\n",
      "\u001b[1m\u001b[94mAll avaliables variables selected as input !\u001b[0m\n",
      "\u001b[1m\u001b[91mSelected inputs are :\u001b[0m \n",
      "['qc_ave', 'fs_ave', 'u2_ave', 'magnitude', 'pga', 'gwt']\n"
     ]
    }
   ],
   "source": [
    "real_vars=selecting_inputs(vars_dict)\n",
    "x_main=df[real_vars] \n",
    "y_main=df[target]"
   ]
  },
  {
   "cell_type": "markdown",
   "id": "6832ac08",
   "metadata": {
    "heading_collapsed": true,
    "hidden": true
   },
   "source": [
    "## Scaling"
   ]
  },
  {
   "cell_type": "code",
   "execution_count": 13,
   "id": "2ce57ad7",
   "metadata": {
    "hidden": true
   },
   "outputs": [],
   "source": [
    "from sklearn.preprocessing import MinMaxScaler,RobustScaler,StandardScaler,PowerTransformer,MaxAbsScaler,QuantileTransformer\n",
    "df_target_dropped=df.drop(target,axis=1)"
   ]
  },
  {
   "cell_type": "code",
   "execution_count": 14,
   "id": "59acc125",
   "metadata": {
    "hidden": true
   },
   "outputs": [],
   "source": [
    "min_max_scaler = MinMaxScaler()\n",
    "scaled_df = min_max_scaler.fit_transform(df_target_dropped)\n",
    "df_sc = pd.DataFrame(scaled_df,columns=df_target_dropped.columns)\n",
    "df_sc[target]=df[target]"
   ]
  },
  {
   "cell_type": "code",
   "execution_count": 15,
   "id": "f62c265d",
   "metadata": {
    "hidden": true
   },
   "outputs": [],
   "source": [
    "df = df_sc\n",
    "x_main_sc=df[real_vars] \n",
    "y_main_sc=df[target]"
   ]
  },
  {
   "cell_type": "markdown",
   "id": "a4922a6d",
   "metadata": {
    "heading_collapsed": true,
    "hidden": true
   },
   "source": [
    "## Splitting"
   ]
  },
  {
   "cell_type": "markdown",
   "id": "c2d2b69f",
   "metadata": {
    "heading_collapsed": true,
    "hidden": true
   },
   "source": [
    "### Splitting"
   ]
  },
  {
   "cell_type": "markdown",
   "id": "6c0d443d",
   "metadata": {
    "hidden": true
   },
   "source": [
    "Variable **sd** means = seperated data (for foward calculations)"
   ]
  },
  {
   "cell_type": "code",
   "execution_count": 9,
   "id": "405d9685",
   "metadata": {
    "code_folding": [],
    "hidden": true
   },
   "outputs": [
    {
     "name": "stdout",
     "output_type": "stream",
     "text": [
      "2022-08-11 13:11:36.976224 0 0.9916072231970239\n",
      "2022-08-11 13:11:37.023101 2 0.9937617383183044\n",
      "2022-08-11 13:11:37.172701 9 0.9952731241687462\n",
      "2022-08-11 13:11:37.770143 38 0.9953092368365632\n",
      "2022-08-11 13:11:37.792045 39 0.9953206225863983\n",
      "2022-08-11 13:11:38.204941 57 0.998073178886055\n",
      "2022-08-11 13:11:46.965739 480 0.998099612643185\n"
     ]
    },
    {
     "ename": "KeyboardInterrupt",
     "evalue": "",
     "output_type": "error",
     "traceback": [
      "\u001b[1;31m---------------------------------------------------------------------------\u001b[0m",
      "\u001b[1;31mKeyboardInterrupt\u001b[0m                         Traceback (most recent call last)",
      "Input \u001b[1;32mIn [9]\u001b[0m, in \u001b[0;36m<cell line: 5>\u001b[1;34m()\u001b[0m\n\u001b[0;32m      1\u001b[0m \u001b[38;5;66;03m#1. param: test size\u001b[39;00m\n\u001b[0;32m      2\u001b[0m \u001b[38;5;66;03m#2. param: df\u001b[39;00m\n\u001b[0;32m      3\u001b[0m \u001b[38;5;66;03m#3. param: real_vars\u001b[39;00m\n\u001b[0;32m      4\u001b[0m \u001b[38;5;66;03m#4. param: target\u001b[39;00m\n\u001b[1;32m----> 5\u001b[0m \u001b[43mbest_random_state_wizard\u001b[49m\u001b[43m(\u001b[49m\u001b[38;5;241;43m20\u001b[39;49m\u001b[43m,\u001b[49m\u001b[43mdf\u001b[49m\u001b[43m,\u001b[49m\u001b[43mreal_vars\u001b[49m\u001b[43m,\u001b[49m\u001b[43mtarget\u001b[49m\u001b[43m)\u001b[49m\n",
      "Input \u001b[1;32mIn [1]\u001b[0m, in \u001b[0;36mbest_random_state_wizard\u001b[1;34m(test_size, df, real_vars, target)\u001b[0m\n\u001b[0;32m     21\u001b[0m x_train, x_test, y_train, y_test \u001b[38;5;241m=\u001b[39m train_test_split(df[real_vars], df[target],test_size\u001b[38;5;241m=\u001b[39m(test_size\u001b[38;5;241m/\u001b[39m\u001b[38;5;241m100\u001b[39m),random_state\u001b[38;5;241m=\u001b[39mi)\n\u001b[0;32m     22\u001b[0m train_df,test_df\u001b[38;5;241m=\u001b[39mtrain_test_df_maker(x_train, x_test, y_train, y_test)\n\u001b[1;32m---> 23\u001b[0m skor\u001b[38;5;241m=\u001b[39m\u001b[43mshow_split_performance_2\u001b[49m\u001b[43m(\u001b[49m\u001b[43mtrain_df\u001b[49m\u001b[43m,\u001b[49m\u001b[43m \u001b[49m\u001b[43mtest_df\u001b[49m\u001b[43m)\u001b[49m\n\u001b[0;32m     24\u001b[0m \u001b[38;5;28;01mif\u001b[39;00m skor \u001b[38;5;241m>\u001b[39m best_skor:\n\u001b[0;32m     25\u001b[0m     best_skor\u001b[38;5;241m=\u001b[39mskor\n",
      "Input \u001b[1;32mIn [1]\u001b[0m, in \u001b[0;36mshow_split_performance_2\u001b[1;34m(train_df, test_df)\u001b[0m\n\u001b[0;32m     70\u001b[0m \u001b[38;5;28;01mdef\u001b[39;00m \u001b[38;5;21mshow_split_performance_2\u001b[39m(train_df, test_df):\n\u001b[0;32m     71\u001b[0m     \u001b[38;5;66;03m#made by seyidcem in order to suppor best_random_state_wizard function\u001b[39;00m\n\u001b[0;32m     72\u001b[0m     a \u001b[38;5;241m=\u001b[39m pd\u001b[38;5;241m.\u001b[39mDataFrame(train_df\u001b[38;5;241m.\u001b[39mdescribe())\n\u001b[1;32m---> 73\u001b[0m     b \u001b[38;5;241m=\u001b[39m pd\u001b[38;5;241m.\u001b[39mDataFrame(\u001b[43mtest_df\u001b[49m\u001b[38;5;241;43m.\u001b[39;49m\u001b[43mdescribe\u001b[49m\u001b[43m(\u001b[49m\u001b[43m)\u001b[49m)\n\u001b[0;32m     75\u001b[0m     all_std \u001b[38;5;241m=\u001b[39m []\n\u001b[0;32m     76\u001b[0m     all_mean \u001b[38;5;241m=\u001b[39m []\n",
      "File \u001b[1;32m~\\anaconda3\\envs\\bitirme2\\lib\\site-packages\\pandas\\core\\generic.py:10235\u001b[0m, in \u001b[0;36mNDFrame.describe\u001b[1;34m(self, percentiles, include, exclude, datetime_is_numeric)\u001b[0m\n\u001b[0;32m   9986\u001b[0m \u001b[38;5;129m@final\u001b[39m\n\u001b[0;32m   9987\u001b[0m \u001b[38;5;28;01mdef\u001b[39;00m \u001b[38;5;21mdescribe\u001b[39m(\n\u001b[0;32m   9988\u001b[0m     \u001b[38;5;28mself\u001b[39m: NDFrameT,\n\u001b[1;32m   (...)\u001b[0m\n\u001b[0;32m   9992\u001b[0m     datetime_is_numeric\u001b[38;5;241m=\u001b[39m\u001b[38;5;28;01mFalse\u001b[39;00m,\n\u001b[0;32m   9993\u001b[0m ) \u001b[38;5;241m-\u001b[39m\u001b[38;5;241m>\u001b[39m NDFrameT:\n\u001b[0;32m   9994\u001b[0m     \u001b[38;5;124;03m\"\"\"\u001b[39;00m\n\u001b[0;32m   9995\u001b[0m \u001b[38;5;124;03m    Generate descriptive statistics.\u001b[39;00m\n\u001b[0;32m   9996\u001b[0m \n\u001b[1;32m   (...)\u001b[0m\n\u001b[0;32m  10233\u001b[0m \u001b[38;5;124;03m    max            NaN      3.0\u001b[39;00m\n\u001b[0;32m  10234\u001b[0m \u001b[38;5;124;03m    \"\"\"\u001b[39;00m\n\u001b[1;32m> 10235\u001b[0m     \u001b[38;5;28;01mreturn\u001b[39;00m \u001b[43mdescribe_ndframe\u001b[49m\u001b[43m(\u001b[49m\n\u001b[0;32m  10236\u001b[0m \u001b[43m        \u001b[49m\u001b[43mobj\u001b[49m\u001b[38;5;241;43m=\u001b[39;49m\u001b[38;5;28;43mself\u001b[39;49m\u001b[43m,\u001b[49m\n\u001b[0;32m  10237\u001b[0m \u001b[43m        \u001b[49m\u001b[43minclude\u001b[49m\u001b[38;5;241;43m=\u001b[39;49m\u001b[43minclude\u001b[49m\u001b[43m,\u001b[49m\n\u001b[0;32m  10238\u001b[0m \u001b[43m        \u001b[49m\u001b[43mexclude\u001b[49m\u001b[38;5;241;43m=\u001b[39;49m\u001b[43mexclude\u001b[49m\u001b[43m,\u001b[49m\n\u001b[0;32m  10239\u001b[0m \u001b[43m        \u001b[49m\u001b[43mdatetime_is_numeric\u001b[49m\u001b[38;5;241;43m=\u001b[39;49m\u001b[43mdatetime_is_numeric\u001b[49m\u001b[43m,\u001b[49m\n\u001b[0;32m  10240\u001b[0m \u001b[43m        \u001b[49m\u001b[43mpercentiles\u001b[49m\u001b[38;5;241;43m=\u001b[39;49m\u001b[43mpercentiles\u001b[49m\u001b[43m,\u001b[49m\n\u001b[0;32m  10241\u001b[0m \u001b[43m    \u001b[49m\u001b[43m)\u001b[49m\n",
      "File \u001b[1;32m~\\anaconda3\\envs\\bitirme2\\lib\\site-packages\\pandas\\core\\describe.py:94\u001b[0m, in \u001b[0;36mdescribe_ndframe\u001b[1;34m(obj, include, exclude, datetime_is_numeric, percentiles)\u001b[0m\n\u001b[0;32m     86\u001b[0m \u001b[38;5;28;01melse\u001b[39;00m:\n\u001b[0;32m     87\u001b[0m     describer \u001b[38;5;241m=\u001b[39m DataFrameDescriber(\n\u001b[0;32m     88\u001b[0m         obj\u001b[38;5;241m=\u001b[39mcast(\u001b[38;5;124m\"\u001b[39m\u001b[38;5;124mDataFrame\u001b[39m\u001b[38;5;124m\"\u001b[39m, obj),\n\u001b[0;32m     89\u001b[0m         include\u001b[38;5;241m=\u001b[39minclude,\n\u001b[0;32m     90\u001b[0m         exclude\u001b[38;5;241m=\u001b[39mexclude,\n\u001b[0;32m     91\u001b[0m         datetime_is_numeric\u001b[38;5;241m=\u001b[39mdatetime_is_numeric,\n\u001b[0;32m     92\u001b[0m     )\n\u001b[1;32m---> 94\u001b[0m result \u001b[38;5;241m=\u001b[39m \u001b[43mdescriber\u001b[49m\u001b[38;5;241;43m.\u001b[39;49m\u001b[43mdescribe\u001b[49m\u001b[43m(\u001b[49m\u001b[43mpercentiles\u001b[49m\u001b[38;5;241;43m=\u001b[39;49m\u001b[43mpercentiles\u001b[49m\u001b[43m)\u001b[49m\n\u001b[0;32m     95\u001b[0m \u001b[38;5;28;01mreturn\u001b[39;00m cast(NDFrameT, result)\n",
      "File \u001b[1;32m~\\anaconda3\\envs\\bitirme2\\lib\\site-packages\\pandas\\core\\describe.py:174\u001b[0m, in \u001b[0;36mDataFrameDescriber.describe\u001b[1;34m(self, percentiles)\u001b[0m\n\u001b[0;32m    172\u001b[0m \u001b[38;5;28;01mfor\u001b[39;00m _, series \u001b[38;5;129;01min\u001b[39;00m data\u001b[38;5;241m.\u001b[39mitems():\n\u001b[0;32m    173\u001b[0m     describe_func \u001b[38;5;241m=\u001b[39m select_describe_func(series, \u001b[38;5;28mself\u001b[39m\u001b[38;5;241m.\u001b[39mdatetime_is_numeric)\n\u001b[1;32m--> 174\u001b[0m     ldesc\u001b[38;5;241m.\u001b[39mappend(\u001b[43mdescribe_func\u001b[49m\u001b[43m(\u001b[49m\u001b[43mseries\u001b[49m\u001b[43m,\u001b[49m\u001b[43m \u001b[49m\u001b[43mpercentiles\u001b[49m\u001b[43m)\u001b[49m)\n\u001b[0;32m    176\u001b[0m col_names \u001b[38;5;241m=\u001b[39m reorder_columns(ldesc)\n\u001b[0;32m    177\u001b[0m d \u001b[38;5;241m=\u001b[39m concat(\n\u001b[0;32m    178\u001b[0m     [x\u001b[38;5;241m.\u001b[39mreindex(col_names, copy\u001b[38;5;241m=\u001b[39m\u001b[38;5;28;01mFalse\u001b[39;00m) \u001b[38;5;28;01mfor\u001b[39;00m x \u001b[38;5;129;01min\u001b[39;00m ldesc],\n\u001b[0;32m    179\u001b[0m     axis\u001b[38;5;241m=\u001b[39m\u001b[38;5;241m1\u001b[39m,\n\u001b[0;32m    180\u001b[0m     sort\u001b[38;5;241m=\u001b[39m\u001b[38;5;28;01mFalse\u001b[39;00m,\n\u001b[0;32m    181\u001b[0m )\n",
      "File \u001b[1;32m~\\anaconda3\\envs\\bitirme2\\lib\\site-packages\\pandas\\core\\describe.py:241\u001b[0m, in \u001b[0;36mdescribe_numeric_1d\u001b[1;34m(series, percentiles)\u001b[0m\n\u001b[0;32m    236\u001b[0m formatted_percentiles \u001b[38;5;241m=\u001b[39m format_percentiles(percentiles)  \u001b[38;5;66;03m# type: ignore[arg-type]\u001b[39;00m\n\u001b[0;32m    238\u001b[0m stat_index \u001b[38;5;241m=\u001b[39m [\u001b[38;5;124m\"\u001b[39m\u001b[38;5;124mcount\u001b[39m\u001b[38;5;124m\"\u001b[39m, \u001b[38;5;124m\"\u001b[39m\u001b[38;5;124mmean\u001b[39m\u001b[38;5;124m\"\u001b[39m, \u001b[38;5;124m\"\u001b[39m\u001b[38;5;124mstd\u001b[39m\u001b[38;5;124m\"\u001b[39m, \u001b[38;5;124m\"\u001b[39m\u001b[38;5;124mmin\u001b[39m\u001b[38;5;124m\"\u001b[39m] \u001b[38;5;241m+\u001b[39m formatted_percentiles \u001b[38;5;241m+\u001b[39m [\u001b[38;5;124m\"\u001b[39m\u001b[38;5;124mmax\u001b[39m\u001b[38;5;124m\"\u001b[39m]\n\u001b[0;32m    239\u001b[0m d \u001b[38;5;241m=\u001b[39m (\n\u001b[0;32m    240\u001b[0m     [series\u001b[38;5;241m.\u001b[39mcount(), series\u001b[38;5;241m.\u001b[39mmean(), series\u001b[38;5;241m.\u001b[39mstd(), series\u001b[38;5;241m.\u001b[39mmin()]\n\u001b[1;32m--> 241\u001b[0m     \u001b[38;5;241m+\u001b[39m \u001b[43mseries\u001b[49m\u001b[38;5;241;43m.\u001b[39;49m\u001b[43mquantile\u001b[49m\u001b[43m(\u001b[49m\u001b[43mpercentiles\u001b[49m\u001b[43m)\u001b[49m\u001b[38;5;241m.\u001b[39mtolist()\n\u001b[0;32m    242\u001b[0m     \u001b[38;5;241m+\u001b[39m [series\u001b[38;5;241m.\u001b[39mmax()]\n\u001b[0;32m    243\u001b[0m )\n\u001b[0;32m    244\u001b[0m \u001b[38;5;28;01mreturn\u001b[39;00m Series(d, index\u001b[38;5;241m=\u001b[39mstat_index, name\u001b[38;5;241m=\u001b[39mseries\u001b[38;5;241m.\u001b[39mname)\n",
      "File \u001b[1;32m~\\anaconda3\\envs\\bitirme2\\lib\\site-packages\\pandas\\core\\series.py:2497\u001b[0m, in \u001b[0;36mSeries.quantile\u001b[1;34m(self, q, interpolation)\u001b[0m\n\u001b[0;32m   2493\u001b[0m \u001b[38;5;66;03m# We dispatch to DataFrame so that core.internals only has to worry\u001b[39;00m\n\u001b[0;32m   2494\u001b[0m \u001b[38;5;66;03m#  about 2D cases.\u001b[39;00m\n\u001b[0;32m   2495\u001b[0m df \u001b[38;5;241m=\u001b[39m \u001b[38;5;28mself\u001b[39m\u001b[38;5;241m.\u001b[39mto_frame()\n\u001b[1;32m-> 2497\u001b[0m result \u001b[38;5;241m=\u001b[39m \u001b[43mdf\u001b[49m\u001b[38;5;241;43m.\u001b[39;49m\u001b[43mquantile\u001b[49m\u001b[43m(\u001b[49m\u001b[43mq\u001b[49m\u001b[38;5;241;43m=\u001b[39;49m\u001b[43mq\u001b[49m\u001b[43m,\u001b[49m\u001b[43m \u001b[49m\u001b[43minterpolation\u001b[49m\u001b[38;5;241;43m=\u001b[39;49m\u001b[43minterpolation\u001b[49m\u001b[43m,\u001b[49m\u001b[43m \u001b[49m\u001b[43mnumeric_only\u001b[49m\u001b[38;5;241;43m=\u001b[39;49m\u001b[38;5;28;43;01mFalse\u001b[39;49;00m\u001b[43m)\u001b[49m\n\u001b[0;32m   2498\u001b[0m \u001b[38;5;28;01mif\u001b[39;00m result\u001b[38;5;241m.\u001b[39mndim \u001b[38;5;241m==\u001b[39m \u001b[38;5;241m2\u001b[39m:\n\u001b[0;32m   2499\u001b[0m     result \u001b[38;5;241m=\u001b[39m result\u001b[38;5;241m.\u001b[39miloc[:, \u001b[38;5;241m0\u001b[39m]\n",
      "File \u001b[1;32m~\\anaconda3\\envs\\bitirme2\\lib\\site-packages\\pandas\\core\\frame.py:10497\u001b[0m, in \u001b[0;36mDataFrame.quantile\u001b[1;34m(self, q, axis, numeric_only, interpolation)\u001b[0m\n\u001b[0;32m  10494\u001b[0m         \u001b[38;5;28;01mreturn\u001b[39;00m \u001b[38;5;28mself\u001b[39m\u001b[38;5;241m.\u001b[39m_constructor([], index\u001b[38;5;241m=\u001b[39mq, columns\u001b[38;5;241m=\u001b[39mcols)\n\u001b[0;32m  10495\u001b[0m     \u001b[38;5;28;01mreturn\u001b[39;00m \u001b[38;5;28mself\u001b[39m\u001b[38;5;241m.\u001b[39m_constructor_sliced([], index\u001b[38;5;241m=\u001b[39mcols, name\u001b[38;5;241m=\u001b[39mq, dtype\u001b[38;5;241m=\u001b[39mnp\u001b[38;5;241m.\u001b[39mfloat64)\n\u001b[1;32m> 10497\u001b[0m res \u001b[38;5;241m=\u001b[39m \u001b[43mdata\u001b[49m\u001b[38;5;241;43m.\u001b[39;49m\u001b[43m_mgr\u001b[49m\u001b[38;5;241;43m.\u001b[39;49m\u001b[43mquantile\u001b[49m\u001b[43m(\u001b[49m\u001b[43mqs\u001b[49m\u001b[38;5;241;43m=\u001b[39;49m\u001b[43mq\u001b[49m\u001b[43m,\u001b[49m\u001b[43m \u001b[49m\u001b[43maxis\u001b[49m\u001b[38;5;241;43m=\u001b[39;49m\u001b[38;5;241;43m1\u001b[39;49m\u001b[43m,\u001b[49m\u001b[43m \u001b[49m\u001b[43minterpolation\u001b[49m\u001b[38;5;241;43m=\u001b[39;49m\u001b[43minterpolation\u001b[49m\u001b[43m)\u001b[49m\n\u001b[0;32m  10499\u001b[0m result \u001b[38;5;241m=\u001b[39m \u001b[38;5;28mself\u001b[39m\u001b[38;5;241m.\u001b[39m_constructor(res)\n\u001b[0;32m  10500\u001b[0m \u001b[38;5;28;01mreturn\u001b[39;00m result\n",
      "File \u001b[1;32m~\\anaconda3\\envs\\bitirme2\\lib\\site-packages\\pandas\\core\\internals\\managers.py:1451\u001b[0m, in \u001b[0;36mBlockManager.quantile\u001b[1;34m(self, qs, axis, interpolation)\u001b[0m\n\u001b[0;32m   1448\u001b[0m new_axes \u001b[38;5;241m=\u001b[39m \u001b[38;5;28mlist\u001b[39m(\u001b[38;5;28mself\u001b[39m\u001b[38;5;241m.\u001b[39maxes)\n\u001b[0;32m   1449\u001b[0m new_axes[\u001b[38;5;241m1\u001b[39m] \u001b[38;5;241m=\u001b[39m Float64Index(qs)\n\u001b[1;32m-> 1451\u001b[0m blocks \u001b[38;5;241m=\u001b[39m [\n\u001b[0;32m   1452\u001b[0m     blk\u001b[38;5;241m.\u001b[39mquantile(axis\u001b[38;5;241m=\u001b[39maxis, qs\u001b[38;5;241m=\u001b[39mqs, interpolation\u001b[38;5;241m=\u001b[39minterpolation)\n\u001b[0;32m   1453\u001b[0m     \u001b[38;5;28;01mfor\u001b[39;00m blk \u001b[38;5;129;01min\u001b[39;00m \u001b[38;5;28mself\u001b[39m\u001b[38;5;241m.\u001b[39mblocks\n\u001b[0;32m   1454\u001b[0m ]\n\u001b[0;32m   1456\u001b[0m \u001b[38;5;28;01mreturn\u001b[39;00m \u001b[38;5;28mtype\u001b[39m(\u001b[38;5;28mself\u001b[39m)(blocks, new_axes)\n",
      "File \u001b[1;32m~\\anaconda3\\envs\\bitirme2\\lib\\site-packages\\pandas\\core\\internals\\managers.py:1452\u001b[0m, in \u001b[0;36m<listcomp>\u001b[1;34m(.0)\u001b[0m\n\u001b[0;32m   1448\u001b[0m new_axes \u001b[38;5;241m=\u001b[39m \u001b[38;5;28mlist\u001b[39m(\u001b[38;5;28mself\u001b[39m\u001b[38;5;241m.\u001b[39maxes)\n\u001b[0;32m   1449\u001b[0m new_axes[\u001b[38;5;241m1\u001b[39m] \u001b[38;5;241m=\u001b[39m Float64Index(qs)\n\u001b[0;32m   1451\u001b[0m blocks \u001b[38;5;241m=\u001b[39m [\n\u001b[1;32m-> 1452\u001b[0m     \u001b[43mblk\u001b[49m\u001b[38;5;241;43m.\u001b[39;49m\u001b[43mquantile\u001b[49m\u001b[43m(\u001b[49m\u001b[43maxis\u001b[49m\u001b[38;5;241;43m=\u001b[39;49m\u001b[43maxis\u001b[49m\u001b[43m,\u001b[49m\u001b[43m \u001b[49m\u001b[43mqs\u001b[49m\u001b[38;5;241;43m=\u001b[39;49m\u001b[43mqs\u001b[49m\u001b[43m,\u001b[49m\u001b[43m \u001b[49m\u001b[43minterpolation\u001b[49m\u001b[38;5;241;43m=\u001b[39;49m\u001b[43minterpolation\u001b[49m\u001b[43m)\u001b[49m\n\u001b[0;32m   1453\u001b[0m     \u001b[38;5;28;01mfor\u001b[39;00m blk \u001b[38;5;129;01min\u001b[39;00m \u001b[38;5;28mself\u001b[39m\u001b[38;5;241m.\u001b[39mblocks\n\u001b[0;32m   1454\u001b[0m ]\n\u001b[0;32m   1456\u001b[0m \u001b[38;5;28;01mreturn\u001b[39;00m \u001b[38;5;28mtype\u001b[39m(\u001b[38;5;28mself\u001b[39m)(blocks, new_axes)\n",
      "File \u001b[1;32m~\\anaconda3\\envs\\bitirme2\\lib\\site-packages\\pandas\\core\\internals\\blocks.py:1327\u001b[0m, in \u001b[0;36mBlock.quantile\u001b[1;34m(self, qs, interpolation, axis)\u001b[0m\n\u001b[0;32m   1324\u001b[0m \u001b[38;5;28;01massert\u001b[39;00m axis \u001b[38;5;241m==\u001b[39m \u001b[38;5;241m1\u001b[39m  \u001b[38;5;66;03m# only ever called this way\u001b[39;00m\n\u001b[0;32m   1325\u001b[0m \u001b[38;5;28;01massert\u001b[39;00m is_list_like(qs)  \u001b[38;5;66;03m# caller is responsible for this\u001b[39;00m\n\u001b[1;32m-> 1327\u001b[0m result \u001b[38;5;241m=\u001b[39m \u001b[43mquantile_compat\u001b[49m\u001b[43m(\u001b[49m\u001b[38;5;28;43mself\u001b[39;49m\u001b[38;5;241;43m.\u001b[39;49m\u001b[43mvalues\u001b[49m\u001b[43m,\u001b[49m\u001b[43m \u001b[49m\u001b[43mnp\u001b[49m\u001b[38;5;241;43m.\u001b[39;49m\u001b[43masarray\u001b[49m\u001b[43m(\u001b[49m\u001b[43mqs\u001b[49m\u001b[38;5;241;43m.\u001b[39;49m\u001b[43m_values\u001b[49m\u001b[43m)\u001b[49m\u001b[43m,\u001b[49m\u001b[43m \u001b[49m\u001b[43minterpolation\u001b[49m\u001b[43m)\u001b[49m\n\u001b[0;32m   1328\u001b[0m \u001b[38;5;66;03m# ensure_block_shape needed for cases where we start with EA and result\u001b[39;00m\n\u001b[0;32m   1329\u001b[0m \u001b[38;5;66;03m#  is ndarray, e.g. IntegerArray, SparseArray\u001b[39;00m\n\u001b[0;32m   1330\u001b[0m result \u001b[38;5;241m=\u001b[39m ensure_block_shape(result, ndim\u001b[38;5;241m=\u001b[39m\u001b[38;5;241m2\u001b[39m)\n",
      "File \u001b[1;32m~\\anaconda3\\envs\\bitirme2\\lib\\site-packages\\pandas\\core\\array_algos\\quantile.py:38\u001b[0m, in \u001b[0;36mquantile_compat\u001b[1;34m(values, qs, interpolation)\u001b[0m\n\u001b[0;32m     36\u001b[0m     fill_value \u001b[38;5;241m=\u001b[39m na_value_for_dtype(values\u001b[38;5;241m.\u001b[39mdtype, compat\u001b[38;5;241m=\u001b[39m\u001b[38;5;28;01mFalse\u001b[39;00m)\n\u001b[0;32m     37\u001b[0m     mask \u001b[38;5;241m=\u001b[39m isna(values)\n\u001b[1;32m---> 38\u001b[0m     \u001b[38;5;28;01mreturn\u001b[39;00m \u001b[43mquantile_with_mask\u001b[49m\u001b[43m(\u001b[49m\u001b[43mvalues\u001b[49m\u001b[43m,\u001b[49m\u001b[43m \u001b[49m\u001b[43mmask\u001b[49m\u001b[43m,\u001b[49m\u001b[43m \u001b[49m\u001b[43mfill_value\u001b[49m\u001b[43m,\u001b[49m\u001b[43m \u001b[49m\u001b[43mqs\u001b[49m\u001b[43m,\u001b[49m\u001b[43m \u001b[49m\u001b[43minterpolation\u001b[49m\u001b[43m)\u001b[49m\n\u001b[0;32m     39\u001b[0m \u001b[38;5;28;01melse\u001b[39;00m:\n\u001b[0;32m     40\u001b[0m     \u001b[38;5;28;01mreturn\u001b[39;00m values\u001b[38;5;241m.\u001b[39m_quantile(qs, interpolation)\n",
      "File \u001b[1;32m~\\anaconda3\\envs\\bitirme2\\lib\\site-packages\\pandas\\core\\array_algos\\quantile.py:88\u001b[0m, in \u001b[0;36mquantile_with_mask\u001b[1;34m(values, mask, fill_value, qs, interpolation)\u001b[0m\n\u001b[0;32m     86\u001b[0m     result \u001b[38;5;241m=\u001b[39m np\u001b[38;5;241m.\u001b[39mrepeat(flat, \u001b[38;5;28mlen\u001b[39m(values))\u001b[38;5;241m.\u001b[39mreshape(\u001b[38;5;28mlen\u001b[39m(values), \u001b[38;5;28mlen\u001b[39m(qs))\n\u001b[0;32m     87\u001b[0m \u001b[38;5;28;01melse\u001b[39;00m:\n\u001b[1;32m---> 88\u001b[0m     result \u001b[38;5;241m=\u001b[39m \u001b[43m_nanpercentile\u001b[49m\u001b[43m(\u001b[49m\n\u001b[0;32m     89\u001b[0m \u001b[43m        \u001b[49m\u001b[43mvalues\u001b[49m\u001b[43m,\u001b[49m\n\u001b[0;32m     90\u001b[0m \u001b[43m        \u001b[49m\u001b[43mqs\u001b[49m\u001b[43m \u001b[49m\u001b[38;5;241;43m*\u001b[39;49m\u001b[43m \u001b[49m\u001b[38;5;241;43m100.0\u001b[39;49m\u001b[43m,\u001b[49m\n\u001b[0;32m     91\u001b[0m \u001b[43m        \u001b[49m\u001b[43mna_value\u001b[49m\u001b[38;5;241;43m=\u001b[39;49m\u001b[43mfill_value\u001b[49m\u001b[43m,\u001b[49m\n\u001b[0;32m     92\u001b[0m \u001b[43m        \u001b[49m\u001b[43mmask\u001b[49m\u001b[38;5;241;43m=\u001b[39;49m\u001b[43mmask\u001b[49m\u001b[43m,\u001b[49m\n\u001b[0;32m     93\u001b[0m \u001b[43m        \u001b[49m\u001b[43minterpolation\u001b[49m\u001b[38;5;241;43m=\u001b[39;49m\u001b[43minterpolation\u001b[49m\u001b[43m,\u001b[49m\n\u001b[0;32m     94\u001b[0m \u001b[43m    \u001b[49m\u001b[43m)\u001b[49m\n\u001b[0;32m     96\u001b[0m     result \u001b[38;5;241m=\u001b[39m np\u001b[38;5;241m.\u001b[39marray(result, copy\u001b[38;5;241m=\u001b[39m\u001b[38;5;28;01mFalse\u001b[39;00m)\n\u001b[0;32m     97\u001b[0m     result \u001b[38;5;241m=\u001b[39m result\u001b[38;5;241m.\u001b[39mT\n",
      "File \u001b[1;32m~\\anaconda3\\envs\\bitirme2\\lib\\site-packages\\pandas\\core\\array_algos\\quantile.py:186\u001b[0m, in \u001b[0;36m_nanpercentile\u001b[1;34m(values, qs, na_value, mask, interpolation)\u001b[0m\n\u001b[0;32m    184\u001b[0m     \u001b[38;5;28;01mreturn\u001b[39;00m result\n\u001b[0;32m    185\u001b[0m \u001b[38;5;28;01melse\u001b[39;00m:\n\u001b[1;32m--> 186\u001b[0m     \u001b[38;5;28;01mreturn\u001b[39;00m \u001b[43mnp\u001b[49m\u001b[38;5;241;43m.\u001b[39;49m\u001b[43mpercentile\u001b[49m\u001b[43m(\u001b[49m\n\u001b[0;32m    187\u001b[0m \u001b[43m        \u001b[49m\u001b[43mvalues\u001b[49m\u001b[43m,\u001b[49m\u001b[43m \u001b[49m\u001b[43mqs\u001b[49m\u001b[43m,\u001b[49m\u001b[43m \u001b[49m\u001b[43maxis\u001b[49m\u001b[38;5;241;43m=\u001b[39;49m\u001b[38;5;241;43m1\u001b[39;49m\u001b[43m,\u001b[49m\u001b[43m \u001b[49m\u001b[38;5;241;43m*\u001b[39;49m\u001b[38;5;241;43m*\u001b[39;49m\u001b[43m{\u001b[49m\u001b[43mnp_percentile_argname\u001b[49m\u001b[43m:\u001b[49m\u001b[43m \u001b[49m\u001b[43minterpolation\u001b[49m\u001b[43m}\u001b[49m\n\u001b[0;32m    188\u001b[0m \u001b[43m    \u001b[49m\u001b[43m)\u001b[49m\n",
      "File \u001b[1;32m<__array_function__ internals>:5\u001b[0m, in \u001b[0;36mpercentile\u001b[1;34m(*args, **kwargs)\u001b[0m\n",
      "File \u001b[1;32m~\\anaconda3\\envs\\bitirme2\\lib\\site-packages\\numpy\\lib\\function_base.py:3867\u001b[0m, in \u001b[0;36mpercentile\u001b[1;34m(a, q, axis, out, overwrite_input, interpolation, keepdims)\u001b[0m\n\u001b[0;32m   3865\u001b[0m \u001b[38;5;28;01mif\u001b[39;00m \u001b[38;5;129;01mnot\u001b[39;00m _quantile_is_valid(q):\n\u001b[0;32m   3866\u001b[0m     \u001b[38;5;28;01mraise\u001b[39;00m \u001b[38;5;167;01mValueError\u001b[39;00m(\u001b[38;5;124m\"\u001b[39m\u001b[38;5;124mPercentiles must be in the range [0, 100]\u001b[39m\u001b[38;5;124m\"\u001b[39m)\n\u001b[1;32m-> 3867\u001b[0m \u001b[38;5;28;01mreturn\u001b[39;00m \u001b[43m_quantile_unchecked\u001b[49m\u001b[43m(\u001b[49m\n\u001b[0;32m   3868\u001b[0m \u001b[43m    \u001b[49m\u001b[43ma\u001b[49m\u001b[43m,\u001b[49m\u001b[43m \u001b[49m\u001b[43mq\u001b[49m\u001b[43m,\u001b[49m\u001b[43m \u001b[49m\u001b[43maxis\u001b[49m\u001b[43m,\u001b[49m\u001b[43m \u001b[49m\u001b[43mout\u001b[49m\u001b[43m,\u001b[49m\u001b[43m \u001b[49m\u001b[43moverwrite_input\u001b[49m\u001b[43m,\u001b[49m\u001b[43m \u001b[49m\u001b[43minterpolation\u001b[49m\u001b[43m,\u001b[49m\u001b[43m \u001b[49m\u001b[43mkeepdims\u001b[49m\u001b[43m)\u001b[49m\n",
      "File \u001b[1;32m~\\anaconda3\\envs\\bitirme2\\lib\\site-packages\\numpy\\lib\\function_base.py:3986\u001b[0m, in \u001b[0;36m_quantile_unchecked\u001b[1;34m(a, q, axis, out, overwrite_input, interpolation, keepdims)\u001b[0m\n\u001b[0;32m   3983\u001b[0m \u001b[38;5;28;01mdef\u001b[39;00m \u001b[38;5;21m_quantile_unchecked\u001b[39m(a, q, axis\u001b[38;5;241m=\u001b[39m\u001b[38;5;28;01mNone\u001b[39;00m, out\u001b[38;5;241m=\u001b[39m\u001b[38;5;28;01mNone\u001b[39;00m, overwrite_input\u001b[38;5;241m=\u001b[39m\u001b[38;5;28;01mFalse\u001b[39;00m,\n\u001b[0;32m   3984\u001b[0m                         interpolation\u001b[38;5;241m=\u001b[39m\u001b[38;5;124m'\u001b[39m\u001b[38;5;124mlinear\u001b[39m\u001b[38;5;124m'\u001b[39m, keepdims\u001b[38;5;241m=\u001b[39m\u001b[38;5;28;01mFalse\u001b[39;00m):\n\u001b[0;32m   3985\u001b[0m     \u001b[38;5;124;03m\"\"\"Assumes that q is in [0, 1], and is an ndarray\"\"\"\u001b[39;00m\n\u001b[1;32m-> 3986\u001b[0m     r, k \u001b[38;5;241m=\u001b[39m \u001b[43m_ureduce\u001b[49m\u001b[43m(\u001b[49m\u001b[43ma\u001b[49m\u001b[43m,\u001b[49m\u001b[43m \u001b[49m\u001b[43mfunc\u001b[49m\u001b[38;5;241;43m=\u001b[39;49m\u001b[43m_quantile_ureduce_func\u001b[49m\u001b[43m,\u001b[49m\u001b[43m \u001b[49m\u001b[43mq\u001b[49m\u001b[38;5;241;43m=\u001b[39;49m\u001b[43mq\u001b[49m\u001b[43m,\u001b[49m\u001b[43m \u001b[49m\u001b[43maxis\u001b[49m\u001b[38;5;241;43m=\u001b[39;49m\u001b[43maxis\u001b[49m\u001b[43m,\u001b[49m\u001b[43m \u001b[49m\u001b[43mout\u001b[49m\u001b[38;5;241;43m=\u001b[39;49m\u001b[43mout\u001b[49m\u001b[43m,\u001b[49m\n\u001b[0;32m   3987\u001b[0m \u001b[43m                    \u001b[49m\u001b[43moverwrite_input\u001b[49m\u001b[38;5;241;43m=\u001b[39;49m\u001b[43moverwrite_input\u001b[49m\u001b[43m,\u001b[49m\n\u001b[0;32m   3988\u001b[0m \u001b[43m                    \u001b[49m\u001b[43minterpolation\u001b[49m\u001b[38;5;241;43m=\u001b[39;49m\u001b[43minterpolation\u001b[49m\u001b[43m)\u001b[49m\n\u001b[0;32m   3989\u001b[0m     \u001b[38;5;28;01mif\u001b[39;00m keepdims:\n\u001b[0;32m   3990\u001b[0m         \u001b[38;5;28;01mreturn\u001b[39;00m r\u001b[38;5;241m.\u001b[39mreshape(q\u001b[38;5;241m.\u001b[39mshape \u001b[38;5;241m+\u001b[39m k)\n",
      "File \u001b[1;32m~\\anaconda3\\envs\\bitirme2\\lib\\site-packages\\numpy\\lib\\function_base.py:3564\u001b[0m, in \u001b[0;36m_ureduce\u001b[1;34m(a, func, **kwargs)\u001b[0m\n\u001b[0;32m   3561\u001b[0m \u001b[38;5;28;01melse\u001b[39;00m:\n\u001b[0;32m   3562\u001b[0m     keepdim \u001b[38;5;241m=\u001b[39m (\u001b[38;5;241m1\u001b[39m,) \u001b[38;5;241m*\u001b[39m a\u001b[38;5;241m.\u001b[39mndim\n\u001b[1;32m-> 3564\u001b[0m r \u001b[38;5;241m=\u001b[39m \u001b[43mfunc\u001b[49m\u001b[43m(\u001b[49m\u001b[43ma\u001b[49m\u001b[43m,\u001b[49m\u001b[43m \u001b[49m\u001b[38;5;241;43m*\u001b[39;49m\u001b[38;5;241;43m*\u001b[39;49m\u001b[43mkwargs\u001b[49m\u001b[43m)\u001b[49m\n\u001b[0;32m   3565\u001b[0m \u001b[38;5;28;01mreturn\u001b[39;00m r, keepdim\n",
      "File \u001b[1;32m~\\anaconda3\\envs\\bitirme2\\lib\\site-packages\\numpy\\lib\\function_base.py:4095\u001b[0m, in \u001b[0;36m_quantile_ureduce_func\u001b[1;34m(***failed resolving arguments***)\u001b[0m\n\u001b[0;32m   4091\u001b[0m indices_above[indices_above \u001b[38;5;241m>\u001b[39m Nx \u001b[38;5;241m-\u001b[39m \u001b[38;5;241m1\u001b[39m] \u001b[38;5;241m=\u001b[39m Nx \u001b[38;5;241m-\u001b[39m \u001b[38;5;241m1\u001b[39m\n\u001b[0;32m   4093\u001b[0m \u001b[38;5;28;01mif\u001b[39;00m np\u001b[38;5;241m.\u001b[39missubdtype(a\u001b[38;5;241m.\u001b[39mdtype, np\u001b[38;5;241m.\u001b[39minexact):\n\u001b[0;32m   4094\u001b[0m     \u001b[38;5;66;03m# may contain nan, which would sort to the end\u001b[39;00m\n\u001b[1;32m-> 4095\u001b[0m     \u001b[43map\u001b[49m\u001b[38;5;241;43m.\u001b[39;49m\u001b[43mpartition\u001b[49m\u001b[43m(\u001b[49m\u001b[43mconcatenate\u001b[49m\u001b[43m(\u001b[49m\u001b[43m(\u001b[49m\n\u001b[0;32m   4096\u001b[0m \u001b[43m        \u001b[49m\u001b[43mindices_below\u001b[49m\u001b[38;5;241;43m.\u001b[39;49m\u001b[43mravel\u001b[49m\u001b[43m(\u001b[49m\u001b[43m)\u001b[49m\u001b[43m,\u001b[49m\u001b[43m \u001b[49m\u001b[43mindices_above\u001b[49m\u001b[38;5;241;43m.\u001b[39;49m\u001b[43mravel\u001b[49m\u001b[43m(\u001b[49m\u001b[43m)\u001b[49m\u001b[43m,\u001b[49m\u001b[43m \u001b[49m\u001b[43m[\u001b[49m\u001b[38;5;241;43m-\u001b[39;49m\u001b[38;5;241;43m1\u001b[39;49m\u001b[43m]\u001b[49m\n\u001b[0;32m   4097\u001b[0m \u001b[43m    \u001b[49m\u001b[43m)\u001b[49m\u001b[43m)\u001b[49m\u001b[43m,\u001b[49m\u001b[43m \u001b[49m\u001b[43maxis\u001b[49m\u001b[38;5;241;43m=\u001b[39;49m\u001b[38;5;241;43m0\u001b[39;49m\u001b[43m)\u001b[49m\n\u001b[0;32m   4098\u001b[0m     n \u001b[38;5;241m=\u001b[39m np\u001b[38;5;241m.\u001b[39misnan(ap[\u001b[38;5;241m-\u001b[39m\u001b[38;5;241m1\u001b[39m])\n\u001b[0;32m   4099\u001b[0m \u001b[38;5;28;01melse\u001b[39;00m:\n\u001b[0;32m   4100\u001b[0m     \u001b[38;5;66;03m# cannot contain nan\u001b[39;00m\n",
      "\u001b[1;31mKeyboardInterrupt\u001b[0m: "
     ]
    }
   ],
   "source": [
    "#1. param: test size\n",
    "#2. param: df\n",
    "#3. param: real_vars\n",
    "#4. param: target\n",
    "best_random_state_wizard(20,df,real_vars,target)"
   ]
  },
  {
   "cell_type": "markdown",
   "id": "8d1e30ea",
   "metadata": {
    "hidden": true
   },
   "source": [
    "yeni_data_3.0 => Random State: 480 => 0.998"
   ]
  },
  {
   "cell_type": "code",
   "execution_count": 10,
   "id": "e91e286d",
   "metadata": {
    "hidden": true,
    "scrolled": true
   },
   "outputs": [
    {
     "name": "stdout",
     "output_type": "stream",
     "text": [
      "Write TEST size (like %50) = %20\n"
     ]
    }
   ],
   "source": [
    "test_size=int(input(f\"{c.B}{c.BL}Write TEST size (like %50) = %{c.E}\"))\n",
    "x_train, x_test, y_train, y_test = train_test_split(df[real_vars], df[target],test_size=(test_size/100),random_state=480)\n",
    "sd=[x_train,y_train,x_test,y_test]\n",
    "train_data=x_train.copy()\n",
    "train_data[target]=y_train\n",
    "test_data=x_test.copy()\n",
    "test_data[target]=y_test"
   ]
  },
  {
   "cell_type": "markdown",
   "id": "211c2fde",
   "metadata": {
    "heading_collapsed": true,
    "hidden": true
   },
   "source": [
    "### Split performance evaluation"
   ]
  },
  {
   "cell_type": "markdown",
   "id": "9eca4a74",
   "metadata": {
    "hidden": true
   },
   "source": [
    "For better splitting:\n",
    "\n",
    "std,mean,max and min values for both train and test data should be close.\n",
    "\n",
    "If they are close, ratio of it should be 1."
   ]
  },
  {
   "cell_type": "code",
   "execution_count": 11,
   "id": "267a7daf",
   "metadata": {
    "hidden": true
   },
   "outputs": [
    {
     "data": {
      "text/html": [
       "<style type=\"text/css\">\n",
       "#T_bd073_row0_col0 {\n",
       "  background-color: #2484ba;\n",
       "  color: #f1f1f1;\n",
       "}\n",
       "#T_bd073_row0_col1 {\n",
       "  background-color: #056ead;\n",
       "  color: #f1f1f1;\n",
       "}\n",
       "#T_bd073_row0_col2, #T_bd073_row1_col2, #T_bd073_row2_col2, #T_bd073_row3_col2, #T_bd073_row4_col0, #T_bd073_row4_col1, #T_bd073_row6_col2 {\n",
       "  background-color: #023858;\n",
       "  color: #f1f1f1;\n",
       "}\n",
       "#T_bd073_row0_col3, #T_bd073_row1_col0, #T_bd073_row1_col3, #T_bd073_row2_col3, #T_bd073_row3_col1, #T_bd073_row4_col3, #T_bd073_row5_col2 {\n",
       "  background-color: #fff7fb;\n",
       "  color: #000000;\n",
       "}\n",
       "#T_bd073_row1_col1 {\n",
       "  background-color: #046097;\n",
       "  color: #f1f1f1;\n",
       "}\n",
       "#T_bd073_row2_col0 {\n",
       "  background-color: #c6cce3;\n",
       "  color: #000000;\n",
       "}\n",
       "#T_bd073_row2_col1 {\n",
       "  background-color: #034369;\n",
       "  color: #f1f1f1;\n",
       "}\n",
       "#T_bd073_row3_col0 {\n",
       "  background-color: #056ba7;\n",
       "  color: #f1f1f1;\n",
       "}\n",
       "#T_bd073_row3_col3, #T_bd073_row5_col3, #T_bd073_row6_col3 {\n",
       "  background-color: #fff7fb;\n",
       "  color: #000000;\n",
       "  background-color: red;\n",
       "}\n",
       "#T_bd073_row4_col2 {\n",
       "  background-color: #4295c3;\n",
       "  color: #f1f1f1;\n",
       "}\n",
       "#T_bd073_row5_col0 {\n",
       "  background-color: #034973;\n",
       "  color: #f1f1f1;\n",
       "}\n",
       "#T_bd073_row5_col1 {\n",
       "  background-color: #e6e2ef;\n",
       "  color: #000000;\n",
       "}\n",
       "#T_bd073_row6_col0 {\n",
       "  background-color: #023b5d;\n",
       "  color: #f1f1f1;\n",
       "}\n",
       "#T_bd073_row6_col1 {\n",
       "  background-color: #3b92c1;\n",
       "  color: #f1f1f1;\n",
       "}\n",
       "</style>\n",
       "<table id=\"T_bd073\">\n",
       "  <thead>\n",
       "    <tr>\n",
       "      <th class=\"blank level0\" >&nbsp;</th>\n",
       "      <th id=\"T_bd073_level0_col0\" class=\"col_heading level0 col0\" >std</th>\n",
       "      <th id=\"T_bd073_level0_col1\" class=\"col_heading level0 col1\" >mean</th>\n",
       "      <th id=\"T_bd073_level0_col2\" class=\"col_heading level0 col2\" >max</th>\n",
       "      <th id=\"T_bd073_level0_col3\" class=\"col_heading level0 col3\" >min</th>\n",
       "    </tr>\n",
       "  </thead>\n",
       "  <tbody>\n",
       "    <tr>\n",
       "      <th id=\"T_bd073_level0_row0\" class=\"row_heading level0 row0\" >qc_ave</th>\n",
       "      <td id=\"T_bd073_row0_col0\" class=\"data row0 col0\" >0.998124</td>\n",
       "      <td id=\"T_bd073_row0_col1\" class=\"data row0 col1\" >0.996395</td>\n",
       "      <td id=\"T_bd073_row0_col2\" class=\"data row0 col2\" >1.000000</td>\n",
       "      <td id=\"T_bd073_row0_col3\" class=\"data row0 col3\" >0.000000</td>\n",
       "    </tr>\n",
       "    <tr>\n",
       "      <th id=\"T_bd073_level0_row1\" class=\"row_heading level0 row1\" >fs_ave</th>\n",
       "      <td id=\"T_bd073_row1_col0\" class=\"data row1 col0\" >0.995726</td>\n",
       "      <td id=\"T_bd073_row1_col1\" class=\"data row1 col1\" >0.997159</td>\n",
       "      <td id=\"T_bd073_row1_col2\" class=\"data row1 col2\" >1.000000</td>\n",
       "      <td id=\"T_bd073_row1_col3\" class=\"data row1 col3\" >0.000000</td>\n",
       "    </tr>\n",
       "    <tr>\n",
       "      <th id=\"T_bd073_level0_row2\" class=\"row_heading level0 row2\" >u2_ave</th>\n",
       "      <td id=\"T_bd073_row2_col0\" class=\"data row2 col0\" >0.996720</td>\n",
       "      <td id=\"T_bd073_row2_col1\" class=\"data row2 col1\" >0.998345</td>\n",
       "      <td id=\"T_bd073_row2_col2\" class=\"data row2 col2\" >1.000000</td>\n",
       "      <td id=\"T_bd073_row2_col3\" class=\"data row2 col3\" >0.000000</td>\n",
       "    </tr>\n",
       "    <tr>\n",
       "      <th id=\"T_bd073_level0_row3\" class=\"row_heading level0 row3\" >magnitude</th>\n",
       "      <td id=\"T_bd073_row3_col0\" class=\"data row3 col0\" >0.998510</td>\n",
       "      <td id=\"T_bd073_row3_col1\" class=\"data row3 col1\" >0.989040</td>\n",
       "      <td id=\"T_bd073_row3_col2\" class=\"data row3 col2\" >1.000000</td>\n",
       "      <td id=\"T_bd073_row3_col3\" class=\"data row3 col3\" >nan</td>\n",
       "    </tr>\n",
       "    <tr>\n",
       "      <th id=\"T_bd073_level0_row4\" class=\"row_heading level0 row4\" >pga</th>\n",
       "      <td id=\"T_bd073_row4_col0\" class=\"data row4 col0\" >0.999297</td>\n",
       "      <td id=\"T_bd073_row4_col1\" class=\"data row4 col1\" >0.998730</td>\n",
       "      <td id=\"T_bd073_row4_col2\" class=\"data row4 col2\" >0.996805</td>\n",
       "      <td id=\"T_bd073_row4_col3\" class=\"data row4 col3\" >0.000000</td>\n",
       "    </tr>\n",
       "    <tr>\n",
       "      <th id=\"T_bd073_level0_row5\" class=\"row_heading level0 row5\" >gwt</th>\n",
       "      <td id=\"T_bd073_row5_col0\" class=\"data row5 col0\" >0.999066</td>\n",
       "      <td id=\"T_bd073_row5_col1\" class=\"data row5 col1\" >0.990530</td>\n",
       "      <td id=\"T_bd073_row5_col2\" class=\"data row5 col2\" >0.992048</td>\n",
       "      <td id=\"T_bd073_row5_col3\" class=\"data row5 col3\" >nan</td>\n",
       "    </tr>\n",
       "    <tr>\n",
       "      <th id=\"T_bd073_level0_row6\" class=\"row_heading level0 row6\" >manifestation</th>\n",
       "      <td id=\"T_bd073_row6_col0\" class=\"data row6 col0\" >0.999255</td>\n",
       "      <td id=\"T_bd073_row6_col1\" class=\"data row6 col1\" >0.994989</td>\n",
       "      <td id=\"T_bd073_row6_col2\" class=\"data row6 col2\" >1.000000</td>\n",
       "      <td id=\"T_bd073_row6_col3\" class=\"data row6 col3\" >nan</td>\n",
       "    </tr>\n",
       "  </tbody>\n",
       "</table>\n"
      ],
      "text/plain": [
       "<pandas.io.formats.style.Styler at 0x2365f249610>"
      ]
     },
     "execution_count": 11,
     "metadata": {},
     "output_type": "execute_result"
    }
   ],
   "source": [
    "train_df,test_df=train_test_df_maker(x_train, x_test, y_train, y_test)\n",
    "show_split_performance(train_df, test_df)"
   ]
  },
  {
   "cell_type": "markdown",
   "id": "2ebeb314",
   "metadata": {
    "heading_collapsed": true
   },
   "source": [
    "# Deep Learning"
   ]
  },
  {
   "cell_type": "code",
   "execution_count": 40,
   "id": "32213452",
   "metadata": {
    "code_folding": [
     8,
     19
    ],
    "hidden": true
   },
   "outputs": [],
   "source": [
    "from tensorflow import keras\n",
    "from tensorflow.keras.utils import plot_model\n",
    "import tensorflow as tf\n",
    "from livelossplot import PlotLossesKeras\n",
    "from keras.models import load_model\n",
    "\n",
    "from sklearn.metrics import classification_report,cohen_kappa_score,roc_curve\n",
    "from sklearn import metrics\n",
    "\n",
    "def work_model(model,sd):\n",
    "    x_train = sd[0]\n",
    "    y_train = sd[1]\n",
    "    x_test = sd[2]\n",
    "    y_test = sd[3]\n",
    "    \n",
    "    model.fit(x_train,y_train)\n",
    "    preds=model.predict(x_test)\n",
    "    report = classification_report(y_test, preds)\n",
    "    print(report)\n",
    "    print(f\"\\nKappa score of {model} => {round(cohen_kappa_score(y_test,model.predict(x_test)),3)} \")\n",
    "def evaluate_model(model, X, y):\n",
    "    cv = RepeatedKFold(n_splits=10, n_repeats=3, random_state=1)\n",
    "    scores = cross_val_score(model, X, y, scoring='neg_mean_absolute_error', cv=cv, n_jobs=-1, error_score='raise')\n",
    "    return scores"
   ]
  },
  {
   "cell_type": "code",
   "execution_count": 29,
   "id": "5c94f203",
   "metadata": {
    "code_folding": [],
    "hidden": true
   },
   "outputs": [],
   "source": [
    "model = keras.Sequential(\n",
    "    [\n",
    "        keras.layers.Dense(units=32, activation=\"relu\", input_shape=(x_train.shape[-1],) ),\n",
    "        keras.layers.Dense(units=64, activation=\"relu\"),\n",
    "        keras.layers.Dense(units=128, activation=\"relu\"),\n",
    "        keras.layers.Dense(units=256, activation=\"relu\"),\n",
    "        keras.layers.Dense(units=128, activation=\"relu\"),\n",
    "        keras.layers.Dense(units=32, activation=\"relu\"),\n",
    "        keras.layers.Dense(units=16, activation=\"relu\"),\n",
    "        keras.layers.Dense(units=1, activation=\"sigmoid\"),\n",
    "    ]\n",
    ")\n",
    "\n",
    "# save the initial weights for later\n",
    "initial_weights = model.get_weights()"
   ]
  },
  {
   "cell_type": "code",
   "execution_count": 30,
   "id": "3388813e",
   "metadata": {
    "hidden": true
   },
   "outputs": [],
   "source": [
    "learning_rate = 0.001\n",
    "\n",
    "model.compile(optimizer='adam',\n",
    "              loss='binary_crossentropy',\n",
    "              metrics=['accuracy'])\n"
   ]
  },
  {
   "cell_type": "code",
   "execution_count": 31,
   "id": "4995e34d",
   "metadata": {
    "hidden": true
   },
   "outputs": [
    {
     "data": {
      "image/png": "[encoded data removed]",
      "text/plain": [
       "<Figure size 864x576 with 2 Axes>"
      ]
     },
     "metadata": {
      "needs_background": "light"
     },
     "output_type": "display_data"
    },
    {
     "name": "stdout",
     "output_type": "stream",
     "text": [
      "accuracy\n",
      "\taccuracy         \t (min:    0.841, max:    0.879, cur:    0.879)\n",
      "Loss\n",
      "\tloss             \t (min:    0.295, max:    0.407, cur:    0.295)\n",
      "\b\b\b\b\b\b\b\b\b\b\b\b\b\b\b\b\b\b\b\b\b\b\b\b\b\b\b\b\b\b\b\b\b\b\b\b\b\b\b\b\b\b\b\b\b\b\b\b\b\b\b\b\b\b\b\b\b\b\b\b\b\b\b\b\b\b\b\b\b\b\b\b\b\b\b\b\b\b\b\b\b\b\b\b\r",
      "234/234 [==============================] - 1s 4ms/step - loss: 0.2946 - accuracy: 0.8788\n"
     ]
    }
   ],
   "source": [
    "history = model.fit(x_train, y_train, \n",
    "          epochs=50, \n",
    "          batch_size=50, \n",
    "          callbacks=[PlotLossesKeras()],\n",
    "          verbose=1)"
   ]
  },
  {
   "cell_type": "markdown",
   "id": "1e23db00",
   "metadata": {
    "hidden": true
   },
   "source": [
    "- Performance with test data"
   ]
  },
  {
   "cell_type": "code",
   "execution_count": 32,
   "id": "89a95687",
   "metadata": {
    "hidden": true
   },
   "outputs": [
    {
     "name": "stdout",
     "output_type": "stream",
     "text": [
      "              precision    recall  f1-score   support\n",
      "\n",
      "           0       0.88      0.88      0.88      1772\n",
      "           1       0.82      0.82      0.82      1151\n",
      "\n",
      "    accuracy                           0.86      2923\n",
      "   macro avg       0.85      0.85      0.85      2923\n",
      "weighted avg       0.86      0.86      0.86      2923\n",
      "\n"
     ]
    }
   ],
   "source": [
    "preds=model.predict(x_test)\n",
    "preds_classes=np.round(preds).astype(int)\n",
    "print(classification_report(y_test, preds_classes))"
   ]
  },
  {
   "cell_type": "markdown",
   "id": "f9bee073",
   "metadata": {
    "hidden": true
   },
   "source": [
    "- Performance with train data"
   ]
  },
  {
   "cell_type": "code",
   "execution_count": 33,
   "id": "addbef32",
   "metadata": {
    "hidden": true
   },
   "outputs": [
    {
     "name": "stdout",
     "output_type": "stream",
     "text": [
      "              precision    recall  f1-score   support\n",
      "\n",
      "           0       0.90      0.90      0.90      7063\n",
      "           1       0.84      0.85      0.85      4626\n",
      "\n",
      "    accuracy                           0.88     11689\n",
      "   macro avg       0.87      0.87      0.87     11689\n",
      "weighted avg       0.88      0.88      0.88     11689\n",
      "\n"
     ]
    }
   ],
   "source": [
    "preds=model.predict(x_train)\n",
    "preds_classes=np.round(preds).astype(int)\n",
    "print(classification_report(y_train, preds_classes))"
   ]
  },
  {
   "cell_type": "code",
   "execution_count": 34,
   "id": "c75952ad",
   "metadata": {
    "hidden": true
   },
   "outputs": [
    {
     "data": {
      "image/png": "[encoded data removed]",
      "text/plain": [
       "<Figure size 432x288 with 1 Axes>"
      ]
     },
     "metadata": {
      "needs_background": "light"
     },
     "output_type": "display_data"
    }
   ],
   "source": [
    "from sklearn.metrics import roc_curve\n",
    "y_pred_keras = model.predict(x_test).ravel()\n",
    "fpr_keras, tpr_keras, thresholds_keras = roc_curve(y_test, y_pred_keras)\n",
    "\n",
    "from sklearn.metrics import auc\n",
    "auc_keras = auc(fpr_keras, tpr_keras)\n",
    "\n",
    "plt.figure(1)\n",
    "plt.plot([0, 1], [0, 1], 'k--')\n",
    "plt.plot(fpr_keras, tpr_keras, label='Keras (area = {:.3f})'.format(auc_keras))\n",
    "plt.xlabel('False positive rate')\n",
    "plt.ylabel('True positive rate')\n",
    "plt.title('ROC curve')\n",
    "plt.legend(loc='best')\n",
    "plt.show()"
   ]
  },
  {
   "cell_type": "code",
   "execution_count": 35,
   "id": "03828887",
   "metadata": {
    "hidden": true
   },
   "outputs": [
    {
     "data": {
      "image/png": "[encoded data removed]",
      "text/plain": [
       "<IPython.core.display.Image object>"
      ]
     },
     "execution_count": 35,
     "metadata": {},
     "output_type": "execute_result"
    }
   ],
   "source": [
    "keras.utils.plot_model(model, show_shapes=True)"
   ]
  },
  {
   "cell_type": "markdown",
   "id": "ba8740c7",
   "metadata": {
    "hidden": true
   },
   "source": [
    "- Saving model"
   ]
  },
  {
   "cell_type": "code",
   "execution_count": null,
   "id": "5bf1c827",
   "metadata": {
    "hidden": true
   },
   "outputs": [],
   "source": [
    "model.save('LiqueANN.h5')"
   ]
  },
  {
   "cell_type": "code",
   "execution_count": 45,
   "id": "ebd54c84",
   "metadata": {
    "hidden": true
   },
   "outputs": [],
   "source": [
    "model = load_model('LiqueANN.h5')"
   ]
  },
  {
   "cell_type": "markdown",
   "id": "bd77a573",
   "metadata": {
    "hidden": true
   },
   "source": [
    "- Saving scaler"
   ]
  },
  {
   "cell_type": "code",
   "execution_count": 18,
   "id": "0d596a30",
   "metadata": {
    "hidden": true
   },
   "outputs": [],
   "source": [
    "import joblib\n",
    "scaler_filename = \"min_max_scaler_LiqueANN.save\"\n",
    "joblib.dump(min_max_scaler, scaler_filename) \n",
    "scaler = joblib.load(scaler_filename) "
   ]
  }
 ],
 "metadata": {
  "kernelspec": {
   "display_name": "Python 3 (ipykernel)",
   "language": "python",
   "name": "python3"
  },
  "language_info": {
   "codemirror_mode": {
    "name": "ipython",
    "version": 3
   },
   "file_extension": ".py",
   "mimetype": "text/x-python",
   "name": "python",
   "nbconvert_exporter": "python",
   "pygments_lexer": "ipython3",
   "version": "3.8.13"
  },
  "toc": {
   "base_numbering": 1,
   "nav_menu": {},
   "number_sections": true,
   "sideBar": true,
   "skip_h1_title": false,
   "title_cell": "Table of Contents",
   "title_sidebar": "Contents",
   "toc_cell": false,
   "toc_position": {},
   "toc_section_display": true,
   "toc_window_display": false
  },
  "varInspector": {
   "cols": {
    "lenName": 16,
    "lenType": 16,
    "lenVar": 40
   },
   "kernels_config": {
    "python": {
     "delete_cmd_postfix": "",
     "delete_cmd_prefix": "del ",
     "library": "var_list.py",
     "varRefreshCmd": "print(var_dic_list())"
    },
    "r": {
     "delete_cmd_postfix": ") ",
     "delete_cmd_prefix": "rm(",
     "library": "var_list.r",
     "varRefreshCmd": "cat(var_dic_list()) "
    }
   },
   "types_to_exclude": [
    "module",
    "function",
    "builtin_function_or_method",
    "instance",
    "_Feature"
   ],
   "window_display": false
  }
 },
 "nbformat": 4,
 "nbformat_minor": 5
}
